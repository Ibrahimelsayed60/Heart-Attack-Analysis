{
 "cells": [
  {
   "cell_type": "code",
   "execution_count": 1,
   "id": "checked-thanksgiving",
   "metadata": {
    "_cell_guid": "b1076dfc-b9ad-4769-8c92-a6c4dae69d19",
    "_uuid": "8f2839f25d086af736a60e9eeb907d3b93b6e0e5",
    "execution": {
     "iopub.execute_input": "2021-06-02T13:04:08.450108Z",
     "iopub.status.busy": "2021-06-02T13:04:08.448964Z",
     "iopub.status.idle": "2021-06-02T13:04:09.332261Z",
     "shell.execute_reply": "2021-06-02T13:04:09.331569Z",
     "shell.execute_reply.started": "2021-06-02T12:46:31.164880Z"
    },
    "papermill": {
     "duration": 0.906269,
     "end_time": "2021-06-02T13:04:09.332441",
     "exception": false,
     "start_time": "2021-06-02T13:04:08.426172",
     "status": "completed"
    },
    "tags": []
   },
   "outputs": [],
   "source": [
    "import numpy as np\n",
    "import pandas as pd\n",
    "import matplotlib.pyplot as plt\n",
    "import seaborn as sns\n",
    "import glob"
   ]
  },
  {
   "cell_type": "code",
   "execution_count": 2,
   "id": "adapted-trout",
   "metadata": {
    "execution": {
     "iopub.execute_input": "2021-06-02T13:04:09.376330Z",
     "iopub.status.busy": "2021-06-02T13:04:09.375641Z",
     "iopub.status.idle": "2021-06-02T13:04:09.421675Z",
     "shell.execute_reply": "2021-06-02T13:04:09.421165Z",
     "shell.execute_reply.started": "2021-06-02T12:46:32.153719Z"
    },
    "papermill": {
     "duration": 0.070217,
     "end_time": "2021-06-02T13:04:09.421828",
     "exception": false,
     "start_time": "2021-06-02T13:04:09.351611",
     "status": "completed"
    },
    "tags": []
   },
   "outputs": [
    {
     "data": {
      "text/html": [
       "<div>\n",
       "<style scoped>\n",
       "    .dataframe tbody tr th:only-of-type {\n",
       "        vertical-align: middle;\n",
       "    }\n",
       "\n",
       "    .dataframe tbody tr th {\n",
       "        vertical-align: top;\n",
       "    }\n",
       "\n",
       "    .dataframe thead th {\n",
       "        text-align: right;\n",
       "    }\n",
       "</style>\n",
       "<table border=\"1\" class=\"dataframe\">\n",
       "  <thead>\n",
       "    <tr style=\"text-align: right;\">\n",
       "      <th></th>\n",
       "      <th>age</th>\n",
       "      <th>sex</th>\n",
       "      <th>cp</th>\n",
       "      <th>trtbps</th>\n",
       "      <th>chol</th>\n",
       "      <th>fbs</th>\n",
       "      <th>restecg</th>\n",
       "      <th>thalachh</th>\n",
       "      <th>exng</th>\n",
       "      <th>oldpeak</th>\n",
       "      <th>slp</th>\n",
       "      <th>caa</th>\n",
       "      <th>thall</th>\n",
       "      <th>output</th>\n",
       "    </tr>\n",
       "  </thead>\n",
       "  <tbody>\n",
       "    <tr>\n",
       "      <th>0</th>\n",
       "      <td>63</td>\n",
       "      <td>1</td>\n",
       "      <td>3</td>\n",
       "      <td>145</td>\n",
       "      <td>233</td>\n",
       "      <td>1</td>\n",
       "      <td>0</td>\n",
       "      <td>150</td>\n",
       "      <td>0</td>\n",
       "      <td>2.3</td>\n",
       "      <td>0</td>\n",
       "      <td>0</td>\n",
       "      <td>1</td>\n",
       "      <td>1</td>\n",
       "    </tr>\n",
       "    <tr>\n",
       "      <th>1</th>\n",
       "      <td>37</td>\n",
       "      <td>1</td>\n",
       "      <td>2</td>\n",
       "      <td>130</td>\n",
       "      <td>250</td>\n",
       "      <td>0</td>\n",
       "      <td>1</td>\n",
       "      <td>187</td>\n",
       "      <td>0</td>\n",
       "      <td>3.5</td>\n",
       "      <td>0</td>\n",
       "      <td>0</td>\n",
       "      <td>2</td>\n",
       "      <td>1</td>\n",
       "    </tr>\n",
       "    <tr>\n",
       "      <th>2</th>\n",
       "      <td>41</td>\n",
       "      <td>0</td>\n",
       "      <td>1</td>\n",
       "      <td>130</td>\n",
       "      <td>204</td>\n",
       "      <td>0</td>\n",
       "      <td>0</td>\n",
       "      <td>172</td>\n",
       "      <td>0</td>\n",
       "      <td>1.4</td>\n",
       "      <td>2</td>\n",
       "      <td>0</td>\n",
       "      <td>2</td>\n",
       "      <td>1</td>\n",
       "    </tr>\n",
       "    <tr>\n",
       "      <th>3</th>\n",
       "      <td>56</td>\n",
       "      <td>1</td>\n",
       "      <td>1</td>\n",
       "      <td>120</td>\n",
       "      <td>236</td>\n",
       "      <td>0</td>\n",
       "      <td>1</td>\n",
       "      <td>178</td>\n",
       "      <td>0</td>\n",
       "      <td>0.8</td>\n",
       "      <td>2</td>\n",
       "      <td>0</td>\n",
       "      <td>2</td>\n",
       "      <td>1</td>\n",
       "    </tr>\n",
       "    <tr>\n",
       "      <th>4</th>\n",
       "      <td>57</td>\n",
       "      <td>0</td>\n",
       "      <td>0</td>\n",
       "      <td>120</td>\n",
       "      <td>354</td>\n",
       "      <td>0</td>\n",
       "      <td>1</td>\n",
       "      <td>163</td>\n",
       "      <td>1</td>\n",
       "      <td>0.6</td>\n",
       "      <td>2</td>\n",
       "      <td>0</td>\n",
       "      <td>2</td>\n",
       "      <td>1</td>\n",
       "    </tr>\n",
       "  </tbody>\n",
       "</table>\n",
       "</div>"
      ],
      "text/plain": [
       "   age  sex  cp  trtbps  chol  fbs  restecg  thalachh  exng  oldpeak  slp  \\\n",
       "0   63    1   3     145   233    1        0       150     0      2.3    0   \n",
       "1   37    1   2     130   250    0        1       187     0      3.5    0   \n",
       "2   41    0   1     130   204    0        0       172     0      1.4    2   \n",
       "3   56    1   1     120   236    0        1       178     0      0.8    2   \n",
       "4   57    0   0     120   354    0        1       163     1      0.6    2   \n",
       "\n",
       "   caa  thall  output  \n",
       "0    0      1       1  \n",
       "1    0      2       1  \n",
       "2    0      2       1  \n",
       "3    0      2       1  \n",
       "4    0      2       1  "
      ]
     },
     "execution_count": 2,
     "metadata": {},
     "output_type": "execute_result"
    }
   ],
   "source": [
    "heart_df = pd.read_csv('../input/heart-attack-analysis-prediction-dataset/heart.csv')\n",
    "heart_df.head()"
   ]
  },
  {
   "cell_type": "code",
   "execution_count": 3,
   "id": "occasional-shipping",
   "metadata": {
    "execution": {
     "iopub.execute_input": "2021-06-02T13:04:09.475293Z",
     "iopub.status.busy": "2021-06-02T13:04:09.474581Z",
     "iopub.status.idle": "2021-06-02T13:04:09.478774Z",
     "shell.execute_reply": "2021-06-02T13:04:09.478170Z",
     "shell.execute_reply.started": "2021-06-02T12:46:32.205456Z"
    },
    "papermill": {
     "duration": 0.037662,
     "end_time": "2021-06-02T13:04:09.478909",
     "exception": false,
     "start_time": "2021-06-02T13:04:09.441247",
     "status": "completed"
    },
    "tags": []
   },
   "outputs": [
    {
     "data": {
      "text/html": [
       "<div>\n",
       "<style scoped>\n",
       "    .dataframe tbody tr th:only-of-type {\n",
       "        vertical-align: middle;\n",
       "    }\n",
       "\n",
       "    .dataframe tbody tr th {\n",
       "        vertical-align: top;\n",
       "    }\n",
       "\n",
       "    .dataframe thead th {\n",
       "        text-align: right;\n",
       "    }\n",
       "</style>\n",
       "<table border=\"1\" class=\"dataframe\">\n",
       "  <thead>\n",
       "    <tr style=\"text-align: right;\">\n",
       "      <th></th>\n",
       "      <th>age</th>\n",
       "      <th>sex</th>\n",
       "      <th>cp</th>\n",
       "      <th>trtbps</th>\n",
       "      <th>chol</th>\n",
       "      <th>fbs</th>\n",
       "      <th>restecg</th>\n",
       "      <th>thalachh</th>\n",
       "      <th>exng</th>\n",
       "      <th>oldpeak</th>\n",
       "      <th>slp</th>\n",
       "      <th>caa</th>\n",
       "      <th>thall</th>\n",
       "      <th>output</th>\n",
       "    </tr>\n",
       "  </thead>\n",
       "  <tbody>\n",
       "    <tr>\n",
       "      <th>298</th>\n",
       "      <td>57</td>\n",
       "      <td>0</td>\n",
       "      <td>0</td>\n",
       "      <td>140</td>\n",
       "      <td>241</td>\n",
       "      <td>0</td>\n",
       "      <td>1</td>\n",
       "      <td>123</td>\n",
       "      <td>1</td>\n",
       "      <td>0.2</td>\n",
       "      <td>1</td>\n",
       "      <td>0</td>\n",
       "      <td>3</td>\n",
       "      <td>0</td>\n",
       "    </tr>\n",
       "    <tr>\n",
       "      <th>299</th>\n",
       "      <td>45</td>\n",
       "      <td>1</td>\n",
       "      <td>3</td>\n",
       "      <td>110</td>\n",
       "      <td>264</td>\n",
       "      <td>0</td>\n",
       "      <td>1</td>\n",
       "      <td>132</td>\n",
       "      <td>0</td>\n",
       "      <td>1.2</td>\n",
       "      <td>1</td>\n",
       "      <td>0</td>\n",
       "      <td>3</td>\n",
       "      <td>0</td>\n",
       "    </tr>\n",
       "    <tr>\n",
       "      <th>300</th>\n",
       "      <td>68</td>\n",
       "      <td>1</td>\n",
       "      <td>0</td>\n",
       "      <td>144</td>\n",
       "      <td>193</td>\n",
       "      <td>1</td>\n",
       "      <td>1</td>\n",
       "      <td>141</td>\n",
       "      <td>0</td>\n",
       "      <td>3.4</td>\n",
       "      <td>1</td>\n",
       "      <td>2</td>\n",
       "      <td>3</td>\n",
       "      <td>0</td>\n",
       "    </tr>\n",
       "    <tr>\n",
       "      <th>301</th>\n",
       "      <td>57</td>\n",
       "      <td>1</td>\n",
       "      <td>0</td>\n",
       "      <td>130</td>\n",
       "      <td>131</td>\n",
       "      <td>0</td>\n",
       "      <td>1</td>\n",
       "      <td>115</td>\n",
       "      <td>1</td>\n",
       "      <td>1.2</td>\n",
       "      <td>1</td>\n",
       "      <td>1</td>\n",
       "      <td>3</td>\n",
       "      <td>0</td>\n",
       "    </tr>\n",
       "    <tr>\n",
       "      <th>302</th>\n",
       "      <td>57</td>\n",
       "      <td>0</td>\n",
       "      <td>1</td>\n",
       "      <td>130</td>\n",
       "      <td>236</td>\n",
       "      <td>0</td>\n",
       "      <td>0</td>\n",
       "      <td>174</td>\n",
       "      <td>0</td>\n",
       "      <td>0.0</td>\n",
       "      <td>1</td>\n",
       "      <td>1</td>\n",
       "      <td>2</td>\n",
       "      <td>0</td>\n",
       "    </tr>\n",
       "  </tbody>\n",
       "</table>\n",
       "</div>"
      ],
      "text/plain": [
       "     age  sex  cp  trtbps  chol  fbs  restecg  thalachh  exng  oldpeak  slp  \\\n",
       "298   57    0   0     140   241    0        1       123     1      0.2    1   \n",
       "299   45    1   3     110   264    0        1       132     0      1.2    1   \n",
       "300   68    1   0     144   193    1        1       141     0      3.4    1   \n",
       "301   57    1   0     130   131    0        1       115     1      1.2    1   \n",
       "302   57    0   1     130   236    0        0       174     0      0.0    1   \n",
       "\n",
       "     caa  thall  output  \n",
       "298    0      3       0  \n",
       "299    0      3       0  \n",
       "300    2      3       0  \n",
       "301    1      3       0  \n",
       "302    1      2       0  "
      ]
     },
     "execution_count": 3,
     "metadata": {},
     "output_type": "execute_result"
    }
   ],
   "source": [
    "heart_df.tail()"
   ]
  },
  {
   "cell_type": "markdown",
   "id": "uniform-explorer",
   "metadata": {
    "papermill": {
     "duration": 0.019437,
     "end_time": "2021-06-02T13:04:09.517726",
     "exception": false,
     "start_time": "2021-06-02T13:04:09.498289",
     "status": "completed"
    },
    "tags": []
   },
   "source": [
    "* categorical data : 'sex' , 'cp' , 'fbs' , 'reestecg', 'exng' , 'slp'\n",
    "* Numerical data: 'age' , 'trtbps' , 'chol' , 'thalachh' , 'oldpeak'"
   ]
  },
  {
   "cell_type": "code",
   "execution_count": 4,
   "id": "indonesian-saver",
   "metadata": {
    "execution": {
     "iopub.execute_input": "2021-06-02T13:04:09.562046Z",
     "iopub.status.busy": "2021-06-02T13:04:09.561299Z",
     "iopub.status.idle": "2021-06-02T13:04:09.582235Z",
     "shell.execute_reply": "2021-06-02T13:04:09.582700Z",
     "shell.execute_reply.started": "2021-06-02T12:46:35.277600Z"
    },
    "papermill": {
     "duration": 0.045376,
     "end_time": "2021-06-02T13:04:09.582879",
     "exception": false,
     "start_time": "2021-06-02T13:04:09.537503",
     "status": "completed"
    },
    "tags": []
   },
   "outputs": [
    {
     "data": {
      "text/html": [
       "<div>\n",
       "<style scoped>\n",
       "    .dataframe tbody tr th:only-of-type {\n",
       "        vertical-align: middle;\n",
       "    }\n",
       "\n",
       "    .dataframe tbody tr th {\n",
       "        vertical-align: top;\n",
       "    }\n",
       "\n",
       "    .dataframe thead th {\n",
       "        text-align: right;\n",
       "    }\n",
       "</style>\n",
       "<table border=\"1\" class=\"dataframe\">\n",
       "  <thead>\n",
       "    <tr style=\"text-align: right;\">\n",
       "      <th></th>\n",
       "      <th>98.6</th>\n",
       "    </tr>\n",
       "  </thead>\n",
       "  <tbody>\n",
       "    <tr>\n",
       "      <th>0</th>\n",
       "      <td>98.6</td>\n",
       "    </tr>\n",
       "    <tr>\n",
       "      <th>1</th>\n",
       "      <td>98.6</td>\n",
       "    </tr>\n",
       "    <tr>\n",
       "      <th>2</th>\n",
       "      <td>98.6</td>\n",
       "    </tr>\n",
       "    <tr>\n",
       "      <th>3</th>\n",
       "      <td>98.1</td>\n",
       "    </tr>\n",
       "    <tr>\n",
       "      <th>4</th>\n",
       "      <td>97.5</td>\n",
       "    </tr>\n",
       "  </tbody>\n",
       "</table>\n",
       "</div>"
      ],
      "text/plain": [
       "   98.6\n",
       "0  98.6\n",
       "1  98.6\n",
       "2  98.6\n",
       "3  98.1\n",
       "4  97.5"
      ]
     },
     "execution_count": 4,
     "metadata": {},
     "output_type": "execute_result"
    }
   ],
   "source": [
    "o2sat_df = pd.read_csv('../input/heart-attack-analysis-prediction-dataset/o2Saturation.csv')\n",
    "o2sat_df.head()"
   ]
  },
  {
   "cell_type": "markdown",
   "id": "threaded-science",
   "metadata": {
    "papermill": {
     "duration": 0.019458,
     "end_time": "2021-06-02T13:04:09.622227",
     "exception": false,
     "start_time": "2021-06-02T13:04:09.602769",
     "status": "completed"
    },
    "tags": []
   },
   "source": [
    "# Data analysis"
   ]
  },
  {
   "cell_type": "code",
   "execution_count": 5,
   "id": "stunning-application",
   "metadata": {
    "execution": {
     "iopub.execute_input": "2021-06-02T13:04:09.664464Z",
     "iopub.status.busy": "2021-06-02T13:04:09.663802Z",
     "iopub.status.idle": "2021-06-02T13:04:09.685018Z",
     "shell.execute_reply": "2021-06-02T13:04:09.685752Z",
     "shell.execute_reply.started": "2021-06-02T12:46:37.664349Z"
    },
    "papermill": {
     "duration": 0.044127,
     "end_time": "2021-06-02T13:04:09.685997",
     "exception": false,
     "start_time": "2021-06-02T13:04:09.641870",
     "status": "completed"
    },
    "tags": []
   },
   "outputs": [
    {
     "name": "stdout",
     "output_type": "stream",
     "text": [
      "<class 'pandas.core.frame.DataFrame'>\n",
      "RangeIndex: 303 entries, 0 to 302\n",
      "Data columns (total 14 columns):\n",
      " #   Column    Non-Null Count  Dtype  \n",
      "---  ------    --------------  -----  \n",
      " 0   age       303 non-null    int64  \n",
      " 1   sex       303 non-null    int64  \n",
      " 2   cp        303 non-null    int64  \n",
      " 3   trtbps    303 non-null    int64  \n",
      " 4   chol      303 non-null    int64  \n",
      " 5   fbs       303 non-null    int64  \n",
      " 6   restecg   303 non-null    int64  \n",
      " 7   thalachh  303 non-null    int64  \n",
      " 8   exng      303 non-null    int64  \n",
      " 9   oldpeak   303 non-null    float64\n",
      " 10  slp       303 non-null    int64  \n",
      " 11  caa       303 non-null    int64  \n",
      " 12  thall     303 non-null    int64  \n",
      " 13  output    303 non-null    int64  \n",
      "dtypes: float64(1), int64(13)\n",
      "memory usage: 33.3 KB\n"
     ]
    }
   ],
   "source": [
    "heart_df.info()"
   ]
  },
  {
   "cell_type": "code",
   "execution_count": 6,
   "id": "interracial-chaos",
   "metadata": {
    "execution": {
     "iopub.execute_input": "2021-06-02T13:04:09.744064Z",
     "iopub.status.busy": "2021-06-02T13:04:09.743127Z",
     "iopub.status.idle": "2021-06-02T13:04:09.747520Z",
     "shell.execute_reply": "2021-06-02T13:04:09.746694Z",
     "shell.execute_reply.started": "2021-06-02T12:46:39.008205Z"
    },
    "papermill": {
     "duration": 0.039687,
     "end_time": "2021-06-02T13:04:09.747723",
     "exception": false,
     "start_time": "2021-06-02T13:04:09.708036",
     "status": "completed"
    },
    "tags": []
   },
   "outputs": [
    {
     "data": {
      "text/plain": [
       "age         0\n",
       "sex         0\n",
       "cp          0\n",
       "trtbps      0\n",
       "chol        0\n",
       "fbs         0\n",
       "restecg     0\n",
       "thalachh    0\n",
       "exng        0\n",
       "oldpeak     0\n",
       "slp         0\n",
       "caa         0\n",
       "thall       0\n",
       "output      0\n",
       "dtype: int64"
      ]
     },
     "execution_count": 6,
     "metadata": {},
     "output_type": "execute_result"
    }
   ],
   "source": [
    "heart_df.isna().sum()"
   ]
  },
  {
   "cell_type": "markdown",
   "id": "saved-peace",
   "metadata": {
    "papermill": {
     "duration": 0.024294,
     "end_time": "2021-06-02T13:04:09.800057",
     "exception": false,
     "start_time": "2021-06-02T13:04:09.775763",
     "status": "completed"
    },
    "tags": []
   },
   "source": [
    "There is no missing values"
   ]
  },
  {
   "cell_type": "code",
   "execution_count": 7,
   "id": "regional-canon",
   "metadata": {
    "execution": {
     "iopub.execute_input": "2021-06-02T13:04:09.848237Z",
     "iopub.status.busy": "2021-06-02T13:04:09.847541Z",
     "iopub.status.idle": "2021-06-02T13:04:09.853679Z",
     "shell.execute_reply": "2021-06-02T13:04:09.853060Z",
     "shell.execute_reply.started": "2021-06-02T12:46:42.876588Z"
    },
    "papermill": {
     "duration": 0.029798,
     "end_time": "2021-06-02T13:04:09.853821",
     "exception": false,
     "start_time": "2021-06-02T13:04:09.824023",
     "status": "completed"
    },
    "tags": []
   },
   "outputs": [
    {
     "data": {
      "text/plain": [
       "Index(['age', 'sex', 'cp', 'trtbps', 'chol', 'fbs', 'restecg', 'thalachh',\n",
       "       'exng', 'oldpeak', 'slp', 'caa', 'thall', 'output'],\n",
       "      dtype='object')"
      ]
     },
     "execution_count": 7,
     "metadata": {},
     "output_type": "execute_result"
    }
   ],
   "source": [
    "heart_df.columns"
   ]
  },
  {
   "cell_type": "code",
   "execution_count": 8,
   "id": "virgin-audience",
   "metadata": {
    "execution": {
     "iopub.execute_input": "2021-06-02T13:04:09.905936Z",
     "iopub.status.busy": "2021-06-02T13:04:09.900886Z",
     "iopub.status.idle": "2021-06-02T13:04:09.967120Z",
     "shell.execute_reply": "2021-06-02T13:04:09.966466Z",
     "shell.execute_reply.started": "2021-06-02T12:46:43.775520Z"
    },
    "papermill": {
     "duration": 0.09192,
     "end_time": "2021-06-02T13:04:09.967256",
     "exception": false,
     "start_time": "2021-06-02T13:04:09.875336",
     "status": "completed"
    },
    "tags": []
   },
   "outputs": [
    {
     "data": {
      "text/html": [
       "<div>\n",
       "<style scoped>\n",
       "    .dataframe tbody tr th:only-of-type {\n",
       "        vertical-align: middle;\n",
       "    }\n",
       "\n",
       "    .dataframe tbody tr th {\n",
       "        vertical-align: top;\n",
       "    }\n",
       "\n",
       "    .dataframe thead th {\n",
       "        text-align: right;\n",
       "    }\n",
       "</style>\n",
       "<table border=\"1\" class=\"dataframe\">\n",
       "  <thead>\n",
       "    <tr style=\"text-align: right;\">\n",
       "      <th></th>\n",
       "      <th>age</th>\n",
       "      <th>sex</th>\n",
       "      <th>cp</th>\n",
       "      <th>trtbps</th>\n",
       "      <th>chol</th>\n",
       "      <th>fbs</th>\n",
       "      <th>restecg</th>\n",
       "      <th>thalachh</th>\n",
       "      <th>exng</th>\n",
       "      <th>oldpeak</th>\n",
       "      <th>slp</th>\n",
       "      <th>caa</th>\n",
       "      <th>thall</th>\n",
       "      <th>output</th>\n",
       "    </tr>\n",
       "  </thead>\n",
       "  <tbody>\n",
       "    <tr>\n",
       "      <th>count</th>\n",
       "      <td>303.0</td>\n",
       "      <td>303.0</td>\n",
       "      <td>303.0</td>\n",
       "      <td>303.0</td>\n",
       "      <td>303.0</td>\n",
       "      <td>303.0</td>\n",
       "      <td>303.0</td>\n",
       "      <td>303.0</td>\n",
       "      <td>303.0</td>\n",
       "      <td>303.0</td>\n",
       "      <td>303.0</td>\n",
       "      <td>303.0</td>\n",
       "      <td>303.0</td>\n",
       "      <td>303.0</td>\n",
       "    </tr>\n",
       "    <tr>\n",
       "      <th>mean</th>\n",
       "      <td>54.4</td>\n",
       "      <td>0.7</td>\n",
       "      <td>1.0</td>\n",
       "      <td>131.6</td>\n",
       "      <td>246.3</td>\n",
       "      <td>0.1</td>\n",
       "      <td>0.5</td>\n",
       "      <td>149.6</td>\n",
       "      <td>0.3</td>\n",
       "      <td>1.0</td>\n",
       "      <td>1.4</td>\n",
       "      <td>0.7</td>\n",
       "      <td>2.3</td>\n",
       "      <td>0.5</td>\n",
       "    </tr>\n",
       "    <tr>\n",
       "      <th>std</th>\n",
       "      <td>9.1</td>\n",
       "      <td>0.5</td>\n",
       "      <td>1.0</td>\n",
       "      <td>17.5</td>\n",
       "      <td>51.8</td>\n",
       "      <td>0.4</td>\n",
       "      <td>0.5</td>\n",
       "      <td>22.9</td>\n",
       "      <td>0.5</td>\n",
       "      <td>1.2</td>\n",
       "      <td>0.6</td>\n",
       "      <td>1.0</td>\n",
       "      <td>0.6</td>\n",
       "      <td>0.5</td>\n",
       "    </tr>\n",
       "    <tr>\n",
       "      <th>min</th>\n",
       "      <td>29.0</td>\n",
       "      <td>0.0</td>\n",
       "      <td>0.0</td>\n",
       "      <td>94.0</td>\n",
       "      <td>126.0</td>\n",
       "      <td>0.0</td>\n",
       "      <td>0.0</td>\n",
       "      <td>71.0</td>\n",
       "      <td>0.0</td>\n",
       "      <td>0.0</td>\n",
       "      <td>0.0</td>\n",
       "      <td>0.0</td>\n",
       "      <td>0.0</td>\n",
       "      <td>0.0</td>\n",
       "    </tr>\n",
       "    <tr>\n",
       "      <th>25%</th>\n",
       "      <td>47.5</td>\n",
       "      <td>0.0</td>\n",
       "      <td>0.0</td>\n",
       "      <td>120.0</td>\n",
       "      <td>211.0</td>\n",
       "      <td>0.0</td>\n",
       "      <td>0.0</td>\n",
       "      <td>133.5</td>\n",
       "      <td>0.0</td>\n",
       "      <td>0.0</td>\n",
       "      <td>1.0</td>\n",
       "      <td>0.0</td>\n",
       "      <td>2.0</td>\n",
       "      <td>0.0</td>\n",
       "    </tr>\n",
       "    <tr>\n",
       "      <th>50%</th>\n",
       "      <td>55.0</td>\n",
       "      <td>1.0</td>\n",
       "      <td>1.0</td>\n",
       "      <td>130.0</td>\n",
       "      <td>240.0</td>\n",
       "      <td>0.0</td>\n",
       "      <td>1.0</td>\n",
       "      <td>153.0</td>\n",
       "      <td>0.0</td>\n",
       "      <td>0.8</td>\n",
       "      <td>1.0</td>\n",
       "      <td>0.0</td>\n",
       "      <td>2.0</td>\n",
       "      <td>1.0</td>\n",
       "    </tr>\n",
       "    <tr>\n",
       "      <th>75%</th>\n",
       "      <td>61.0</td>\n",
       "      <td>1.0</td>\n",
       "      <td>2.0</td>\n",
       "      <td>140.0</td>\n",
       "      <td>274.5</td>\n",
       "      <td>0.0</td>\n",
       "      <td>1.0</td>\n",
       "      <td>166.0</td>\n",
       "      <td>1.0</td>\n",
       "      <td>1.6</td>\n",
       "      <td>2.0</td>\n",
       "      <td>1.0</td>\n",
       "      <td>3.0</td>\n",
       "      <td>1.0</td>\n",
       "    </tr>\n",
       "    <tr>\n",
       "      <th>max</th>\n",
       "      <td>77.0</td>\n",
       "      <td>1.0</td>\n",
       "      <td>3.0</td>\n",
       "      <td>200.0</td>\n",
       "      <td>564.0</td>\n",
       "      <td>1.0</td>\n",
       "      <td>2.0</td>\n",
       "      <td>202.0</td>\n",
       "      <td>1.0</td>\n",
       "      <td>6.2</td>\n",
       "      <td>2.0</td>\n",
       "      <td>4.0</td>\n",
       "      <td>3.0</td>\n",
       "      <td>1.0</td>\n",
       "    </tr>\n",
       "  </tbody>\n",
       "</table>\n",
       "</div>"
      ],
      "text/plain": [
       "         age    sex     cp  trtbps   chol    fbs  restecg  thalachh   exng  \\\n",
       "count  303.0  303.0  303.0   303.0  303.0  303.0    303.0     303.0  303.0   \n",
       "mean    54.4    0.7    1.0   131.6  246.3    0.1      0.5     149.6    0.3   \n",
       "std      9.1    0.5    1.0    17.5   51.8    0.4      0.5      22.9    0.5   \n",
       "min     29.0    0.0    0.0    94.0  126.0    0.0      0.0      71.0    0.0   \n",
       "25%     47.5    0.0    0.0   120.0  211.0    0.0      0.0     133.5    0.0   \n",
       "50%     55.0    1.0    1.0   130.0  240.0    0.0      1.0     153.0    0.0   \n",
       "75%     61.0    1.0    2.0   140.0  274.5    0.0      1.0     166.0    1.0   \n",
       "max     77.0    1.0    3.0   200.0  564.0    1.0      2.0     202.0    1.0   \n",
       "\n",
       "       oldpeak    slp    caa  thall  output  \n",
       "count    303.0  303.0  303.0  303.0   303.0  \n",
       "mean       1.0    1.4    0.7    2.3     0.5  \n",
       "std        1.2    0.6    1.0    0.6     0.5  \n",
       "min        0.0    0.0    0.0    0.0     0.0  \n",
       "25%        0.0    1.0    0.0    2.0     0.0  \n",
       "50%        0.8    1.0    0.0    2.0     1.0  \n",
       "75%        1.6    2.0    1.0    3.0     1.0  \n",
       "max        6.2    2.0    4.0    3.0     1.0  "
      ]
     },
     "execution_count": 8,
     "metadata": {},
     "output_type": "execute_result"
    }
   ],
   "source": [
    "heart_df.describe().round(1)"
   ]
  },
  {
   "cell_type": "code",
   "execution_count": 9,
   "id": "spectacular-sector",
   "metadata": {
    "execution": {
     "iopub.execute_input": "2021-06-02T13:04:10.017483Z",
     "iopub.status.busy": "2021-06-02T13:04:10.016460Z",
     "iopub.status.idle": "2021-06-02T13:04:10.019189Z",
     "shell.execute_reply": "2021-06-02T13:04:10.019664Z",
     "shell.execute_reply.started": "2021-06-02T12:46:44.806066Z"
    },
    "papermill": {
     "duration": 0.031198,
     "end_time": "2021-06-02T13:04:10.019844",
     "exception": false,
     "start_time": "2021-06-02T13:04:09.988646",
     "status": "completed"
    },
    "tags": []
   },
   "outputs": [],
   "source": [
    "X = heart_df.drop('output',axis=1)\n",
    "y = heart_df['output']"
   ]
  },
  {
   "cell_type": "code",
   "execution_count": 10,
   "id": "swiss-sunrise",
   "metadata": {
    "execution": {
     "iopub.execute_input": "2021-06-02T13:04:10.072465Z",
     "iopub.status.busy": "2021-06-02T13:04:10.071395Z",
     "iopub.status.idle": "2021-06-02T13:04:11.164356Z",
     "shell.execute_reply": "2021-06-02T13:04:11.163741Z",
     "shell.execute_reply.started": "2021-06-02T12:46:47.639464Z"
    },
    "papermill": {
     "duration": 1.123042,
     "end_time": "2021-06-02T13:04:11.164518",
     "exception": false,
     "start_time": "2021-06-02T13:04:10.041476",
     "status": "completed"
    },
    "tags": []
   },
   "outputs": [
    {
     "data": {
      "image/png": "[encoded data removed]",
      "text/plain": [
       "<Figure size 720x720 with 2 Axes>"
      ]
     },
     "metadata": {
      "needs_background": "light"
     },
     "output_type": "display_data"
    }
   ],
   "source": [
    "plt.figure(figsize=(10,10))\n",
    "corr = heart_df.corr()\n",
    "sns.heatmap(corr,annot= True, fmt='2.00%')\n",
    "plt.show()"
   ]
  },
  {
   "cell_type": "code",
   "execution_count": 11,
   "id": "lonely-addiction",
   "metadata": {
    "execution": {
     "iopub.execute_input": "2021-06-02T13:04:11.220211Z",
     "iopub.status.busy": "2021-06-02T13:04:11.219351Z",
     "iopub.status.idle": "2021-06-02T13:04:11.798114Z",
     "shell.execute_reply": "2021-06-02T13:04:11.797382Z",
     "shell.execute_reply.started": "2021-06-02T12:46:48.802869Z"
    },
    "papermill": {
     "duration": 0.608659,
     "end_time": "2021-06-02T13:04:11.798278",
     "exception": false,
     "start_time": "2021-06-02T13:04:11.189619",
     "status": "completed"
    },
    "tags": []
   },
   "outputs": [],
   "source": [
    "from sklearn.preprocessing import MinMaxScaler\n",
    "from sklearn.model_selection import train_test_split\n",
    "from sklearn.ensemble import RandomForestClassifier\n",
    "from sklearn.metrics import accuracy_score,classification_report\n",
    "from sklearn.metrics import confusion_matrix\n",
    "from sklearn.svm import SVC"
   ]
  },
  {
   "cell_type": "code",
   "execution_count": 12,
   "id": "hundred-horror",
   "metadata": {
    "execution": {
     "iopub.execute_input": "2021-06-02T13:04:11.854846Z",
     "iopub.status.busy": "2021-06-02T13:04:11.854207Z",
     "iopub.status.idle": "2021-06-02T13:04:11.857036Z",
     "shell.execute_reply": "2021-06-02T13:04:11.857853Z",
     "shell.execute_reply.started": "2021-06-02T12:46:49.411169Z"
    },
    "papermill": {
     "duration": 0.03483,
     "end_time": "2021-06-02T13:04:11.858082",
     "exception": false,
     "start_time": "2021-06-02T13:04:11.823252",
     "status": "completed"
    },
    "tags": []
   },
   "outputs": [
    {
     "name": "stdout",
     "output_type": "stream",
     "text": [
      "242\n"
     ]
    }
   ],
   "source": [
    "X_train,X_test,y_train,y_test = train_test_split(X,y,test_size=0.2)\n",
    "print(len(X_train))"
   ]
  },
  {
   "cell_type": "code",
   "execution_count": 13,
   "id": "domestic-indianapolis",
   "metadata": {
    "execution": {
     "iopub.execute_input": "2021-06-02T13:04:11.912349Z",
     "iopub.status.busy": "2021-06-02T13:04:11.911692Z",
     "iopub.status.idle": "2021-06-02T13:04:11.923256Z",
     "shell.execute_reply": "2021-06-02T13:04:11.922634Z",
     "shell.execute_reply.started": "2021-06-02T12:46:54.294062Z"
    },
    "papermill": {
     "duration": 0.039404,
     "end_time": "2021-06-02T13:04:11.923399",
     "exception": false,
     "start_time": "2021-06-02T13:04:11.883995",
     "status": "completed"
    },
    "tags": []
   },
   "outputs": [],
   "source": [
    "scaling = MinMaxScaler(feature_range=(0,1))\n",
    "X_train = scaling.fit_transform(X_train)\n",
    "X_test = scaling.transform(X_test)"
   ]
  },
  {
   "cell_type": "code",
   "execution_count": 14,
   "id": "previous-discretion",
   "metadata": {
    "execution": {
     "iopub.execute_input": "2021-06-02T13:04:11.981005Z",
     "iopub.status.busy": "2021-06-02T13:04:11.979982Z",
     "iopub.status.idle": "2021-06-02T13:04:12.189275Z",
     "shell.execute_reply": "2021-06-02T13:04:12.189753Z",
     "shell.execute_reply.started": "2021-06-02T13:03:08.996476Z"
    },
    "papermill": {
     "duration": 0.241419,
     "end_time": "2021-06-02T13:04:12.189951",
     "exception": false,
     "start_time": "2021-06-02T13:04:11.948532",
     "status": "completed"
    },
    "tags": []
   },
   "outputs": [],
   "source": [
    "model_rfc = RandomForestClassifier(random_state=0).fit(X_train,y_train)\n",
    "predict_rfc = model_rfc.predict(X_test)\n",
    "predict_proba = model_rfc.predict_proba(X_test)[:,1]"
   ]
  },
  {
   "cell_type": "code",
   "execution_count": 15,
   "id": "thick-lunch",
   "metadata": {
    "execution": {
     "iopub.execute_input": "2021-06-02T13:04:12.243808Z",
     "iopub.status.busy": "2021-06-02T13:04:12.242845Z",
     "iopub.status.idle": "2021-06-02T13:04:12.247819Z",
     "shell.execute_reply": "2021-06-02T13:04:12.248344Z",
     "shell.execute_reply.started": "2021-06-02T13:03:11.008039Z"
    },
    "papermill": {
     "duration": 0.033653,
     "end_time": "2021-06-02T13:04:12.248532",
     "exception": false,
     "start_time": "2021-06-02T13:04:12.214879",
     "status": "completed"
    },
    "tags": []
   },
   "outputs": [
    {
     "data": {
      "text/plain": [
       "(61,)"
      ]
     },
     "execution_count": 15,
     "metadata": {},
     "output_type": "execute_result"
    }
   ],
   "source": [
    "predict_proba.shape"
   ]
  },
  {
   "cell_type": "code",
   "execution_count": 16,
   "id": "undefined-charge",
   "metadata": {
    "execution": {
     "iopub.execute_input": "2021-06-02T13:04:12.302678Z",
     "iopub.status.busy": "2021-06-02T13:04:12.301712Z",
     "iopub.status.idle": "2021-06-02T13:04:12.312023Z",
     "shell.execute_reply": "2021-06-02T13:04:12.312502Z",
     "shell.execute_reply.started": "2021-06-02T13:03:12.163562Z"
    },
    "papermill": {
     "duration": 0.039021,
     "end_time": "2021-06-02T13:04:12.312675",
     "exception": false,
     "start_time": "2021-06-02T13:04:12.273654",
     "status": "completed"
    },
    "tags": []
   },
   "outputs": [
    {
     "name": "stdout",
     "output_type": "stream",
     "text": [
      "              precision    recall  f1-score   support\n",
      "\n",
      "           0       0.84      0.78      0.81        27\n",
      "           1       0.83      0.88      0.86        34\n",
      "\n",
      "    accuracy                           0.84        61\n",
      "   macro avg       0.84      0.83      0.83        61\n",
      "weighted avg       0.84      0.84      0.84        61\n",
      "\n"
     ]
    }
   ],
   "source": [
    "print(classification_report(y_test,predict_rfc))"
   ]
  },
  {
   "cell_type": "code",
   "execution_count": 17,
   "id": "adaptive-campaign",
   "metadata": {
    "execution": {
     "iopub.execute_input": "2021-06-02T13:04:12.372148Z",
     "iopub.status.busy": "2021-06-02T13:04:12.371435Z",
     "iopub.status.idle": "2021-06-02T13:04:12.374496Z",
     "shell.execute_reply": "2021-06-02T13:04:12.373883Z",
     "shell.execute_reply.started": "2021-06-02T13:03:13.228727Z"
    },
    "papermill": {
     "duration": 0.035871,
     "end_time": "2021-06-02T13:04:12.374630",
     "exception": false,
     "start_time": "2021-06-02T13:04:12.338759",
     "status": "completed"
    },
    "tags": []
   },
   "outputs": [],
   "source": [
    "def true_false_positive(threshold_vector, y_test):\n",
    "    true_positive = np.equal(threshold_vector, 1) & np.equal(y_test, 1)\n",
    "    true_negative = np.equal(threshold_vector, 0) & np.equal(y_test, 0)\n",
    "    false_positive = np.equal(threshold_vector, 1) & np.equal(y_test, 0)\n",
    "    false_negative = np.equal(threshold_vector, 0) & np.equal(y_test, 1)\n",
    "\n",
    "    tpr = true_positive.sum() / (true_positive.sum() + false_negative.sum())\n",
    "    fpr = false_positive.sum() / (false_positive.sum() + true_negative.sum())\n",
    "\n",
    "    return tpr, fpr"
   ]
  },
  {
   "cell_type": "code",
   "execution_count": 18,
   "id": "thick-custody",
   "metadata": {
    "execution": {
     "iopub.execute_input": "2021-06-02T13:04:12.430038Z",
     "iopub.status.busy": "2021-06-02T13:04:12.429337Z",
     "iopub.status.idle": "2021-06-02T13:04:12.434669Z",
     "shell.execute_reply": "2021-06-02T13:04:12.435187Z",
     "shell.execute_reply.started": "2021-06-02T13:03:14.104385Z"
    },
    "papermill": {
     "duration": 0.034756,
     "end_time": "2021-06-02T13:04:12.435375",
     "exception": false,
     "start_time": "2021-06-02T13:04:12.400619",
     "status": "completed"
    },
    "tags": []
   },
   "outputs": [],
   "source": [
    "def roc_from_scratch(probabilities, y_test, partitions=100):\n",
    "    roc = np.array([])\n",
    "    for i in range(partitions + 1):\n",
    "        \n",
    "        threshold_vector = np.greater_equal(probabilities, i / partitions).astype(int)\n",
    "        tpr, fpr = true_false_positive(threshold_vector, y_test)\n",
    "        roc = np.append(roc, [fpr, tpr])\n",
    "        \n",
    "    return roc.reshape(-1, 2)"
   ]
  },
  {
   "cell_type": "code",
   "execution_count": 19,
   "id": "visible-signal",
   "metadata": {
    "execution": {
     "iopub.execute_input": "2021-06-02T13:04:12.490903Z",
     "iopub.status.busy": "2021-06-02T13:04:12.490208Z",
     "iopub.status.idle": "2021-06-02T13:04:12.816187Z",
     "shell.execute_reply": "2021-06-02T13:04:12.816676Z",
     "shell.execute_reply.started": "2021-06-02T13:03:14.887259Z"
    },
    "papermill": {
     "duration": 0.355551,
     "end_time": "2021-06-02T13:04:12.816873",
     "exception": false,
     "start_time": "2021-06-02T13:04:12.461322",
     "status": "completed"
    },
    "tags": []
   },
   "outputs": [
    {
     "data": {
      "image/png": "[encoded data removed]",
      "text/plain": [
       "<Figure size 432x288 with 1 Axes>"
      ]
     },
     "metadata": {
      "needs_background": "light"
     },
     "output_type": "display_data"
    }
   ],
   "source": [
    "ROC = roc_from_scratch(predict_proba,y_test)\n",
    "plt.plot(ROC[:,0],ROC[:,1],color='#0F9D58')\n",
    "plt.title('ROC Curve',fontsize=20)\n",
    "plt.xlabel('False Positive Rate',fontsize=16)\n",
    "plt.ylabel('True Positive Rate',fontsize=16)\n",
    "plt.show()"
   ]
  },
  {
   "cell_type": "markdown",
   "id": "geographic-laundry",
   "metadata": {
    "papermill": {
     "duration": 0.026346,
     "end_time": "2021-06-02T13:04:12.870452",
     "exception": false,
     "start_time": "2021-06-02T13:04:12.844106",
     "status": "completed"
    },
    "tags": []
   },
   "source": [
    "### Note I need to test another model like SVC, KNeighborsClassifier"
   ]
  },
  {
   "cell_type": "code",
   "execution_count": null,
   "id": "pursuant-secretary",
   "metadata": {
    "papermill": {
     "duration": 0.026495,
     "end_time": "2021-06-02T13:04:12.923832",
     "exception": false,
     "start_time": "2021-06-02T13:04:12.897337",
     "status": "completed"
    },
    "tags": []
   },
   "outputs": [],
   "source": []
  }
 ],
 "metadata": {
  "kernelspec": {
   "display_name": "Python 3",
   "language": "python",
   "name": "python3"
  },
  "language_info": {
   "codemirror_mode": {
    "name": "ipython",
    "version": 3
   },
   "file_extension": ".py",
   "mimetype": "text/x-python",
   "name": "python",
   "nbconvert_exporter": "python",
   "pygments_lexer": "ipython3",
   "version": "3.7.10"
  },
  "papermill": {
   "default_parameters": {},
   "duration": 13.417067,
   "end_time": "2021-06-02T13:04:13.661342",
   "environment_variables": {},
   "exception": null,
   "input_path": "__notebook__.ipynb",
   "output_path": "__notebook__.ipynb",
   "parameters": {},
   "start_time": "2021-06-02T13:04:00.244275",
   "version": "2.3.3"
  }
 },
 "nbformat": 4,
 "nbformat_minor": 5
}
